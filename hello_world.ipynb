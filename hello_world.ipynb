{
 "cells": [
  {
   "attachments": {},
   "cell_type": "markdown",
   "id": "4fdd611c",
   "metadata": {},
   "source": [
    "# Welcome to Jupyter Notebook"
   ]
  },
  {
   "cell_type": "code",
   "execution_count": 8,
   "id": "ff18b5c2",
   "metadata": {},
   "outputs": [
    {
     "name": "stderr",
     "output_type": "stream",
     "text": [
      "1 . 2 . 3 -- "
     ]
    }
   ],
   "source": [
    "import sys\n",
    "\n",
    "print(1, 2, 3, sep=\" . \", end=\" -- \", file=sys.stderr, flush=True)"
   ]
  }
 ],
 "metadata": {
  "kernelspec": {
   "display_name": "Python 3.10.4 64-bit",
   "language": "python",
   "name": "python3"
  },
  "language_info": {
   "codemirror_mode": {
    "name": "ipython",
    "version": 3
   },
   "file_extension": ".py",
   "mimetype": "text/x-python",
   "name": "python",
   "nbconvert_exporter": "python",
   "pygments_lexer": "ipython3",
   "version": "3.11.1"
  },
  "vscode": {
   "interpreter": {
    "hash": "21392634d6a7ce0572ddef60e9d83929ca6e1b34164476787d14704ee092c087"
   }
  }
 },
 "nbformat": 4,
 "nbformat_minor": 5
}
