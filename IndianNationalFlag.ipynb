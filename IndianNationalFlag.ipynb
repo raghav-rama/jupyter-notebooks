{
 "cells": [
  {
   "cell_type": "code",
   "execution_count": null,
   "metadata": {},
   "outputs": [],
   "source": [
    "import numpy as np\n",
    "import matplotlib.pyplot as py\n",
    "import matplotlib.patches as patch\n",
    "\n",
    "# plotting the tri color of the national flag\n",
    "a = patch.Rectangle((0, 1), width=12, height=2, facecolor=\"green\", edgecolor=\"grey\")\n",
    "b = patch.Rectangle((0, 3), width=12, height=2, facecolor=\"white\", edgecolor=\"grey\")\n",
    "c = patch.Rectangle((0, 5), width=12, height=2, facecolor=\"#ff6103\", edgecolor=\"grey\")\n",
    "m,n = py.subplots()\n",
    "n.add_patch(a)\n",
    "n.add_patch(b)\n",
    "n.add_patch(c)\n",
    "\n",
    "#AshokaChakra Circle\n",
    "radius = 0.8\n",
    "py.plot(6, 4, marker = 'o', markerfacecolor = '#000088ff', markersize = 9.5)\n",
    "chakra = py.Circle((6, 4), radius, color = '#000088ff', fill = False, linewidth = 7)\n",
    "n.add_artist(chakra)\n",
    "\n",
    "#24 Spokes in AshokaChakra\n",
    "for i in range(0, 24):\n",
    "    p = 6 + radius/2 * np.cos(np.pi * i/12 + np.pi/48)\n",
    "    q = 6 + radius/2 * np.cos(np.pi * i/12 - np.pi/48)\n",
    "    r = 4 + radius/2 * np.sin(np.pi * i/12 + np.pi/48)\n",
    "    s = 4 + radius/2 * np.sin(np.pi * i/12 - np.pi/48)\n",
    "    t = 6 + radius * np.cos(np.pi * i/12)\n",
    "    u = 4 + radius * np.sin(np.pi * i/12)\n",
    "    n.add_patch(patch.Polygon([[6, 4], [p, r], [t, u], [q, s]], fill = True, closed = True, color = '#000088ff'))\n",
    "\n",
    "py.axis('equal')\n",
    "py.show()\n"
   ]
  }
 ],
 "metadata": {
  "language_info": {
   "name": "python"
  },
  "orig_nbformat": 4
 },
 "nbformat": 4,
 "nbformat_minor": 2
}
